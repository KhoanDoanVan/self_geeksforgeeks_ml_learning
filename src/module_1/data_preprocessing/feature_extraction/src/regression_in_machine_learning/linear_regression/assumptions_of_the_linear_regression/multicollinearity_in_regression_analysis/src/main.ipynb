{
 "cells": [
  {
   "cell_type": "code",
   "execution_count": 1,
   "id": "309749b5",
   "metadata": {},
   "outputs": [],
   "source": [
    "import numpy as np\n",
    "import pandas as pd\n",
    "from sklearn.model_selection import train_test_split\n",
    "from sklearn.linear_model import LinearRegression, Ridge\n",
    "from sklearn.metrics import mean_squared_error, r2_score\n",
    "from statsmodels.stats.outliers_influence import variance_inflation_factor\n"
   ]
  },
  {
   "cell_type": "code",
   "execution_count": 2,
   "id": "abf63fff",
   "metadata": {},
   "outputs": [],
   "source": [
    "# Generating a sample dataset with multicollinearity\n",
    "np.random.seed(0)\n",
    "size = 300 # Increase sample size for better effect of Ridge regression\n"
   ]
  },
  {
   "cell_type": "code",
   "execution_count": 3,
   "id": "3a8f5355",
   "metadata": {},
   "outputs": [],
   "source": [
    "# Generate predictors X1, X2, X3 where X2 is highly correlated with X1 and X3 is somewhat correlated with both\n",
    "X1 = np.random.normal(0, 1, size)\n",
    "X2 = X1 + np.random.normal(0, 0.1, size) # X2 is highly correlated with X1\n",
    "X3 = 0.5 * X1 + 0.5 * X2 + np.random.normal(0, 0.1, size) # X3 is correlated with X1 and X2"
   ]
  },
  {
   "cell_type": "code",
   "execution_count": 4,
   "id": "7a5d4d87",
   "metadata": {},
   "outputs": [],
   "source": [
    "# Generate a response variable with some noise\n",
    "Y = 2 * X1 + 3 * X2 + 1.5 * X3 + np.random.normal(0, 1, size)"
   ]
  },
  {
   "cell_type": "code",
   "execution_count": 5,
   "id": "25319be2",
   "metadata": {},
   "outputs": [
    {
     "name": "stdout",
     "output_type": "stream",
     "text": [
      "           X1        X2        X3          Y\n",
      "0    1.764052  1.633400  1.543683   9.282096\n",
      "1    0.400157  0.565970  0.524796   2.601979\n",
      "2    0.978738  0.966922  0.878393   6.543375\n",
      "3    2.240893  2.172875  2.230695  14.536766\n",
      "4    1.867558  1.934196  1.760281  11.326397\n",
      "..        ...       ...       ...        ...\n",
      "295  1.136891  1.174815  1.355649   8.869286\n",
      "296  0.097725  0.050722 -0.011432   0.349259\n",
      "297  0.582954  0.561281  0.417958   2.882909\n",
      "298 -0.399449 -0.492465 -0.186514  -4.567944\n",
      "299  0.370056  0.352197  0.320723   2.867491\n",
      "\n",
      "[300 rows x 4 columns]\n"
     ]
    }
   ],
   "source": [
    "# Combine into a Dataframe\n",
    "df = pd.DataFrame({\n",
    "    'X1': X1,\n",
    "    'X2': X2,\n",
    "    'X3': X3,\n",
    "    'Y': Y\n",
    "})\n",
    "print(df)"
   ]
  },
  {
   "cell_type": "code",
   "execution_count": 6,
   "id": "a5626e9d",
   "metadata": {},
   "outputs": [
    {
     "name": "stdout",
     "output_type": "stream",
     "text": [
      "  feature         VIF\n",
      "0      X1  119.686869\n",
      "1      X2  157.409395\n",
      "2      X3  111.435351\n"
     ]
    }
   ],
   "source": [
    "# Calculating VIFs to show multicollinearity\n",
    "vif_data = pd.DataFrame()\n",
    "vif_data[\"feature\"] = df.columns[:-1]\n",
    "vif_data[\"VIF\"] = [\n",
    "    variance_inflation_factor(df.values, i) for i in range(df.shape[1] - 1)\n",
    "]\n",
    "\n",
    "print(vif_data)"
   ]
  },
  {
   "cell_type": "code",
   "execution_count": 7,
   "id": "66a3971f",
   "metadata": {},
   "outputs": [
    {
     "name": "stdout",
     "output_type": "stream",
     "text": [
      "X_Train:             X1        X2        X3\n",
      "232 -0.542861 -0.420374 -0.478558\n",
      "59  -0.362741 -0.300705 -0.426285\n",
      "6    0.950088  0.816663  0.872327\n",
      "185 -1.602058 -1.867620 -1.719994\n",
      "173 -0.651026 -0.721998 -0.667237\n",
      "..        ...       ...       ...\n",
      "188 -0.739563 -0.744133 -0.877826\n",
      "71   0.128983  0.029671 -0.109132\n",
      "106 -0.413619 -0.332167 -0.279248\n",
      "270  0.399046  0.444425  0.529873\n",
      "102 -1.270485 -1.193819 -1.311019\n",
      "\n",
      "[240 rows x 3 columns]\n",
      "\n",
      "X_Test:             X1        X2        X3\n",
      "203  0.655264  0.631842  0.604431\n",
      "266  0.523891  0.559367  0.530151\n",
      "152 -0.744755 -0.698442 -0.676779\n",
      "9    0.410599  0.394641  0.364705\n",
      "233  0.416050  0.422536  0.412329\n",
      "226  0.156507  0.250181  0.236347\n",
      "196  0.771791  0.705935  0.746322\n",
      "109  1.480515  1.399750  1.461282\n",
      "5   -0.977278 -1.023350 -1.059320\n",
      "175  0.681595  0.781034  0.552181\n",
      "237 -2.069985 -2.088210 -2.111664\n",
      "57   0.302472  0.254674  0.146734\n",
      "218  2.259309  2.287737  2.188264\n",
      "45  -0.438074 -0.466110 -0.482588\n",
      "182 -0.643618 -0.734495 -0.627864\n",
      "221 -0.345982 -0.437290 -0.390486\n",
      "289  1.301846  0.997232  1.069389\n",
      "211  0.317218  0.454715  0.450472\n",
      "148 -1.315907 -1.394170 -1.537465\n",
      "165  0.844363  1.085608  0.854695\n",
      "78  -0.311553 -0.332243 -0.179599\n",
      "113  1.910065  1.886718  1.869352\n",
      "249 -1.466424 -1.529615 -1.494739\n",
      "250  0.521065  0.537458  0.270982\n",
      "104 -1.173123 -1.349977 -1.238068\n",
      "42  -1.706270 -1.775054 -1.637221\n",
      "281  1.020173  0.954184  0.890717\n",
      "295  1.136891  1.174815  1.355649\n",
      "157 -1.079932 -1.300076 -1.260754\n",
      "238  0.426259  0.405969  0.463157\n",
      "17  -0.205158 -0.233847 -0.186540\n",
      "164 -1.225436 -1.275717 -1.178578\n",
      "33  -1.980796 -2.099185 -2.077015\n",
      "24   2.269755  2.154019  2.174372\n",
      "215 -0.410050 -0.392468 -0.227671\n",
      "119  0.922207  1.094166  0.952932\n",
      "7   -0.151357 -0.286029 -0.384763\n",
      "90  -0.403177 -0.346448 -0.341755\n",
      "46  -1.252795 -1.289265 -1.168136\n",
      "73  -1.234826 -1.259772 -1.338577\n",
      "93   0.976639  0.814992  0.718049\n",
      "76  -0.870797 -0.806466 -0.932530\n",
      "286 -1.045253 -1.066948 -0.962461\n",
      "60  -0.672460 -0.602615 -0.730812\n",
      "77  -0.578850 -0.735912 -0.555679\n",
      "63  -1.726283 -1.692286 -1.699495\n",
      "234 -1.156182 -1.284151 -1.215009\n",
      "229 -0.237922 -0.151516 -0.245703\n",
      "111  0.906045  0.986074  1.014057\n",
      "231 -0.493320 -0.453170 -0.373533\n",
      "180 -0.353994 -0.276853 -0.166488\n",
      "144  2.383145  2.470728  2.350366\n",
      "239  0.676908  0.665920  0.702559\n",
      "75  -0.684810 -0.635426 -0.620812\n",
      "297  0.582954  0.561281  0.417958\n",
      "278 -2.030684 -2.043790 -2.032142\n",
      "97   1.785870  1.899981  1.763462\n",
      "92   0.208275  0.172932  0.040364\n",
      "192 -0.039283  0.070746 -0.074009\n",
      "25  -1.454366 -1.485595 -1.592600\n",
      "\n",
      "Y_Train:  232    -2.240126\n",
      "59     -3.546187\n",
      "6       5.137075\n",
      "185   -12.187047\n",
      "173    -5.901637\n",
      "         ...    \n",
      "188    -4.350803\n",
      "71      1.152162\n",
      "106    -1.701838\n",
      "270     3.119040\n",
      "102    -8.511269\n",
      "Name: Y, Length: 240, dtype: float64\n",
      "\n",
      "Y_Test:  203     3.317200\n",
      "266     5.152707\n",
      "152    -4.756027\n",
      "9       3.881241\n",
      "233     3.249378\n",
      "226     2.341873\n",
      "196     5.512528\n",
      "109     9.591236\n",
      "5      -4.790861\n",
      "175     5.473310\n",
      "237   -13.493884\n",
      "57      0.784314\n",
      "218    15.988584\n",
      "45     -2.739644\n",
      "182    -3.835610\n",
      "221    -1.484983\n",
      "289     6.782973\n",
      "211     3.933455\n",
      "148    -9.087433\n",
      "165     6.609010\n",
      "78     -2.032812\n",
      "113    13.847717\n",
      "249    -9.956643\n",
      "250     3.027656\n",
      "104    -8.025227\n",
      "42    -10.712419\n",
      "281     6.224195\n",
      "295     8.869286\n",
      "157    -6.686238\n",
      "238     4.169706\n",
      "17     -1.655605\n",
      "164    -7.947512\n",
      "33    -14.752752\n",
      "24     14.308259\n",
      "215    -0.569088\n",
      "119     6.653527\n",
      "7      -2.922632\n",
      "90     -1.917297\n",
      "46     -7.849989\n",
      "73     -6.867687\n",
      "93      5.716113\n",
      "76     -5.966089\n",
      "286    -6.484045\n",
      "60     -4.614534\n",
      "77     -5.062998\n",
      "63    -10.248679\n",
      "234    -8.115575\n",
      "229    -3.297588\n",
      "111     7.965384\n",
      "231    -2.859383\n",
      "180    -2.189578\n",
      "144    17.137375\n",
      "239     4.551854\n",
      "75     -4.513883\n",
      "297     2.882909\n",
      "278   -13.866508\n",
      "97     12.011068\n",
      "92      0.196469\n",
      "192    -1.616149\n",
      "25     -7.414791\n",
      "Name: Y, dtype: float64\n"
     ]
    }
   ],
   "source": [
    "# Split the dataset into training and testing sets\n",
    "X_train, X_test, y_train, y_test = train_test_split(\n",
    "    df[['X1', 'X2', 'X3']],\n",
    "    df['Y'],\n",
    "    test_size=0.2,\n",
    "    random_state=42\n",
    ")\n",
    "print(\"X_Train: \", X_train)\n",
    "print(\"\\nX_Test: \", X_test)\n",
    "print(\"\\nY_Train: \", y_train)\n",
    "print(\"\\nY_Test: \",y_test)"
   ]
  },
  {
   "cell_type": "code",
   "execution_count": 8,
   "id": "e9ce5cc6",
   "metadata": {},
   "outputs": [
    {
     "name": "stdout",
     "output_type": "stream",
     "text": [
      "[  4.21496877   3.66124044  -4.51359484   2.65475603   2.82502408\n",
      "   1.57984004   4.81865917   9.38582048  -6.56338024   4.83567875\n",
      " -13.53775891   1.71146809  14.88352385  -2.93322178  -4.48536211\n",
      "  -2.60117249   7.06982401   2.86458179  -9.0399439    6.63074441\n",
      "  -1.91189081  12.4128052   -9.77792297   3.32272567  -8.38122222\n",
      " -11.27601967   6.34194438   7.86981514  -8.06511215   2.8157149\n",
      "  -1.35727257  -8.08043521 -13.43229567  14.31631762  -2.34496279\n",
      "   6.86325718  -1.69156138  -2.24650421  -8.16502857  -8.17443906\n",
      "   5.53094759  -5.38041437  -6.74968367  -4.05960022  -4.33708983\n",
      " -11.00920077  -8.05721644  -1.1065408    6.43915395  -2.85077327\n",
      "  -1.7212783   15.97867943   4.48034707  -4.11308971   3.64412053\n",
      " -13.22205507  12.20362765   1.13837627   0.26493609  -9.66587509]\n"
     ]
    }
   ],
   "source": [
    "# Fit a standard linear regression model\n",
    "lr_model = LinearRegression()\n",
    "lr_model.fit(X_train, y_train)\n",
    "y_pred_lr = lr_model.predict(X_test)\n",
    "\n",
    "print(y_pred_lr)"
   ]
  },
  {
   "cell_type": "code",
   "execution_count": 10,
   "id": "56c8a911",
   "metadata": {},
   "outputs": [
    {
     "name": "stdout",
     "output_type": "stream",
     "text": [
      "[  3.69848667   3.17208462  -3.90611045   2.33063074   2.48422212\n",
      "   1.33310721   4.32743822   8.34132345  -5.68875625   3.93636249\n",
      " -11.77384864   1.44753521  12.88291295  -2.51672538  -3.69298701\n",
      "  -2.11455952   6.49320015   2.43199552  -7.93938343   5.3979287\n",
      "  -1.45058344  10.85424594  -8.40241385   2.6364092   -7.02178253\n",
      "  -9.59384226   5.54393061   7.06348505  -6.7932747    2.56733953\n",
      "  -1.07436165  -6.86538741 -11.56187398  12.61936628  -1.84221417\n",
      "   5.74589551  -1.44687389  -1.9557473   -6.92323083  -7.15382375\n",
      "   4.86919102  -4.83268447  -5.7179748   -3.68769601  -3.43787023\n",
      "  -9.58971571  -6.81994251  -1.08920508   5.62287273  -2.39034158\n",
      "  -1.3992625   13.77301116   3.98957043  -3.56677268   3.07552206\n",
      " -11.4647177   10.44660081   0.91280664   0.03518101  -8.47947336]\n"
     ]
    }
   ],
   "source": [
    "# Fit a Ridge regression model with a higher alpha for a better effect on multicollinearity\n",
    "ridge_model = Ridge(alpha=100)\n",
    "ridge_model.fit(X_train, y_train)\n",
    "y_pred_ridge = ridge_model.predict(X_test)\n",
    "\n",
    "print(y_pred_ridge)"
   ]
  },
  {
   "cell_type": "code",
   "execution_count": 11,
   "id": "cde1785d",
   "metadata": {},
   "outputs": [],
   "source": [
    "# Calculate the performance\n",
    "mse_lr = mean_squared_error(y_test, y_pred_lr)\n",
    "r2_lr = r2_score(y_test, y_pred_lr)\n",
    "mse_ridge = mean_squared_error(y_test, y_pred_ridge)\n",
    "r2_ridge = r2_score(y_test, y_pred_ridge)"
   ]
  },
  {
   "cell_type": "code",
   "execution_count": 12,
   "id": "8296e4ed",
   "metadata": {},
   "outputs": [
    {
     "name": "stdout",
     "output_type": "stream",
     "text": [
      "Variance Inflation Factor (VIF):\n",
      "  feature         VIF\n",
      "0      X1  119.686869\n",
      "1      X2  157.409395\n",
      "2      X3  111.435351\n",
      "\n",
      "Linear Regression - MSE: 0.86, R2: 0.985\n",
      "Ridge Regression - MSE: 1.98, R2: 0.965\n"
     ]
    }
   ],
   "source": [
    "# Output the results\n",
    "print(\"Variance Inflation Factor (VIF):\")\n",
    "print(vif_data)\n",
    "print(\"\\nLinear Regression - MSE: {:.2f}, R2: {:.3f}\".format(mse_lr, r2_lr))\n",
    "print(\"Ridge Regression - MSE: {:.2f}, R2: {:.3f}\".format(mse_ridge, r2_ridge))"
   ]
  }
 ],
 "metadata": {
  "kernelspec": {
   "display_name": ".w3s_ml_venv",
   "language": "python",
   "name": "python3"
  },
  "language_info": {
   "codemirror_mode": {
    "name": "ipython",
    "version": 3
   },
   "file_extension": ".py",
   "mimetype": "text/x-python",
   "name": "python",
   "nbconvert_exporter": "python",
   "pygments_lexer": "ipython3",
   "version": "3.13.7"
  }
 },
 "nbformat": 4,
 "nbformat_minor": 5
}
