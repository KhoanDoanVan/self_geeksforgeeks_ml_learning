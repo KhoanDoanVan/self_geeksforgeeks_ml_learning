{
 "cells": [
  {
   "cell_type": "code",
   "execution_count": 2,
   "id": "a5bf8111",
   "metadata": {},
   "outputs": [],
   "source": [
    "import pandas as pd\n",
    "from sklearn.preprocessing import OneHotEncoder"
   ]
  },
  {
   "cell_type": "code",
   "execution_count": 3,
   "id": "7b278e8c",
   "metadata": {},
   "outputs": [
    {
     "name": "stdout",
     "output_type": "stream",
     "text": [
      "Original Employee Data:\n",
      "   Employee id Gender Remarks\n",
      "0           10      M    Good\n",
      "1           20      F    Nice\n",
      "2           15      F    Good\n",
      "3           25      M   Great\n",
      "4           30      F    Nice\n",
      "\n"
     ]
    }
   ],
   "source": [
    "data = {\n",
    "    'Employee id': [10, 20, 15, 25, 30],\n",
    "    'Gender': ['M', 'F', 'F', 'M', 'F'],\n",
    "    'Remarks': ['Good', 'Nice', 'Good', 'Great', 'Nice']\n",
    "}\n",
    "\n",
    "\n",
    "df = pd.DataFrame(data)\n",
    "print(f\"Original Employee Data:\\n{df}\\n\")\n"
   ]
  },
  {
   "cell_type": "code",
   "execution_count": 4,
   "id": "edb2dd47",
   "metadata": {},
   "outputs": [
    {
     "name": "stdout",
     "output_type": "stream",
     "text": [
      "One-Hot Encoded Data using Pandas: \n",
      "    Employee id  Gender_M  Remarks_Great  Remarks_Nice\n",
      "0           10      True          False         False\n",
      "1           20     False          False          True\n",
      "2           15     False          False         False\n",
      "3           25      True           True         False\n",
      "4           30     False          False          True\n",
      "\n"
     ]
    }
   ],
   "source": [
    "df_pandas_encoded = pd.get_dummies(\n",
    "    df,\n",
    "    columns=['Gender', 'Remarks'],\n",
    "    drop_first=True\n",
    ")\n",
    "print(f\"One-Hot Encoded Data using Pandas: \\n {df_pandas_encoded}\\n\")\n"
   ]
  }
 ],
 "metadata": {
  "kernelspec": {
   "display_name": ".w3s_ml_venv",
   "language": "python",
   "name": "python3"
  },
  "language_info": {
   "codemirror_mode": {
    "name": "ipython",
    "version": 3
   },
   "file_extension": ".py",
   "mimetype": "text/x-python",
   "name": "python",
   "nbconvert_exporter": "python",
   "pygments_lexer": "ipython3",
   "version": "3.13.7"
  }
 },
 "nbformat": 4,
 "nbformat_minor": 5
}
