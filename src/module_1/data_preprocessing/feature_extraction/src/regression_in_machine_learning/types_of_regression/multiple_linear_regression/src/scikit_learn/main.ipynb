{
 "cells": [
  {
   "cell_type": "code",
   "execution_count": 1,
   "id": "6159ba09",
   "metadata": {},
   "outputs": [],
   "source": [
    "import pandas as pd\n",
    "from sklearn.preprocessing import OneHotEncoder"
   ]
  },
  {
   "cell_type": "code",
   "execution_count": 2,
   "id": "1d04078c",
   "metadata": {},
   "outputs": [
    {
     "name": "stdout",
     "output_type": "stream",
     "text": [
      "Employee data : \n",
      "   Employee id Gender Remarks\n",
      "0           10      M    Good\n",
      "1           20      F    Nice\n",
      "2           15      F    Good\n",
      "3           25      M   Great\n",
      "4           30      F    Nice\n"
     ]
    }
   ],
   "source": [
    "data = {\n",
    "    'Employee id': [10, 20, 15, 25, 30],\n",
    "    'Gender': ['M', 'F', 'F', 'M', 'F'],\n",
    "    'Remarks': ['Good', 'Nice', 'Good', 'Great', 'Nice']\n",
    "}\n",
    "\n",
    "df = pd.DataFrame(data)\n",
    "print(f\"Employee data : \\n{df}\")"
   ]
  },
  {
   "cell_type": "code",
   "execution_count": 4,
   "id": "7c96a314",
   "metadata": {},
   "outputs": [
    {
     "name": "stdout",
     "output_type": "stream",
     "text": [
      "['Gender', 'Remarks']\n"
     ]
    }
   ],
   "source": [
    "categorical_columns = df.select_dtypes(\n",
    "    include=['object']\n",
    ").columns.tolist()\n",
    "print(categorical_columns)"
   ]
  },
  {
   "cell_type": "code",
   "execution_count": 5,
   "id": "a51a0acf",
   "metadata": {},
   "outputs": [],
   "source": [
    "encoder = OneHotEncoder(sparse_output=False)\n",
    "\n",
    "one_hot_encoded = encoder.fit_transform(df[categorical_columns])"
   ]
  },
  {
   "cell_type": "code",
   "execution_count": 6,
   "id": "ec561ed9",
   "metadata": {},
   "outputs": [
    {
     "name": "stdout",
     "output_type": "stream",
     "text": [
      "   Gender_F  Gender_M  Remarks_Good  Remarks_Great  Remarks_Nice\n",
      "0       0.0       1.0           1.0            0.0           0.0\n",
      "1       1.0       0.0           0.0            0.0           1.0\n",
      "2       1.0       0.0           1.0            0.0           0.0\n",
      "3       0.0       1.0           0.0            1.0           0.0\n",
      "4       1.0       0.0           0.0            0.0           1.0\n"
     ]
    }
   ],
   "source": [
    "one_hot_df = pd.DataFrame(\n",
    "    one_hot_encoded,\n",
    "    columns=encoder.get_feature_names_out(categorical_columns)\n",
    ")\n",
    "\n",
    "print(one_hot_df)"
   ]
  },
  {
   "cell_type": "code",
   "execution_count": 8,
   "id": "56b96eeb",
   "metadata": {},
   "outputs": [
    {
     "name": "stdout",
     "output_type": "stream",
     "text": [
      "   Employee id Gender Remarks  ...  Remarks_Good  Remarks_Great  Remarks_Nice\n",
      "0           10      M    Good  ...           1.0            0.0           0.0\n",
      "1           20      F    Nice  ...           0.0            0.0           1.0\n",
      "2           15      F    Good  ...           1.0            0.0           0.0\n",
      "3           25      M   Great  ...           0.0            1.0           0.0\n",
      "4           30      F    Nice  ...           0.0            0.0           1.0\n",
      "\n",
      "[5 rows x 8 columns]\n",
      "Encoded Employee data : \n",
      "   Employee id  Gender_F  Gender_M  Remarks_Good  Remarks_Great  Remarks_Nice\n",
      "0           10       0.0       1.0           1.0            0.0           0.0\n",
      "1           20       1.0       0.0           0.0            0.0           1.0\n",
      "2           15       1.0       0.0           1.0            0.0           0.0\n",
      "3           25       0.0       1.0           0.0            1.0           0.0\n",
      "4           30       1.0       0.0           0.0            0.0           1.0\n"
     ]
    }
   ],
   "source": [
    "df_encoded = pd.concat([df, one_hot_df], axis=1)\n",
    "print(df_encoded)\n",
    "df_encoded = df_encoded.drop(categorical_columns, axis=1)\n",
    "print(f\"Encoded Employee data : \\n{df_encoded}\")\n"
   ]
  }
 ],
 "metadata": {
  "kernelspec": {
   "display_name": ".w3s_ml_venv",
   "language": "python",
   "name": "python3"
  },
  "language_info": {
   "codemirror_mode": {
    "name": "ipython",
    "version": 3
   },
   "file_extension": ".py",
   "mimetype": "text/x-python",
   "name": "python",
   "nbconvert_exporter": "python",
   "pygments_lexer": "ipython3",
   "version": "3.13.7"
  }
 },
 "nbformat": 4,
 "nbformat_minor": 5
}
