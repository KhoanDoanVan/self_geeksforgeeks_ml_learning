{
 "cells": [
  {
   "metadata": {},
   "cell_type": "markdown",
   "source": [
    "# Method 1: Manual Calculation of MAE\n",
    "- Mean Absolute Error (MAE) is calculated by taking the summation of the absolute difference between the actual and calculated values of each observation over the entire array and then dividing the sum obtained by the number of observations in the array."
   ],
   "id": "bb9d5083b3f2a4a1"
  },
  {
   "cell_type": "code",
   "id": "initial_id",
   "metadata": {
    "collapsed": true,
    "ExecuteTime": {
     "end_time": "2025-10-28T15:53:53.714542Z",
     "start_time": "2025-10-28T15:53:53.708420Z"
    }
   },
   "source": [
    "# consider a list of integers for actual\n",
    "actual = [2, 3, 5, 5, 9]\n",
    "# consider a list of integers for actual\n",
    "calculated = [3, 3, 8, 7, 6]\n",
    "\n",
    "n = 5\n",
    "sum = 0\n",
    "\n",
    "# for loop for iteration\n",
    "for i in range(n):\n",
    "    sum += abs(actual[i] - calculated[i])\n",
    "\n",
    "\n",
    "error = sum/n\n",
    "print(\"Mean absolute error: \" + str(error))"
   ],
   "outputs": [
    {
     "name": "stdout",
     "output_type": "stream",
     "text": [
      "Mean absolute error: 1.8\n"
     ]
    }
   ],
   "execution_count": 1
  },
  {
   "metadata": {},
   "cell_type": "markdown",
   "source": [
    "# Method 2: Calculating MAE Using sklearn\n",
    "- The sklearn.metrics module in Python provides various tools to evaluate the performance of machine learning models. One of the methods available is mean_absolute_error(), which simplifies the calculation of MAE by handling all the necessary steps internally. This method ensures accuracy and efficiency, especially when working with large datasets."
   ],
   "id": "32abb4337a73ade0"
  },
  {
   "metadata": {
    "ExecuteTime": {
     "end_time": "2025-10-28T15:56:03.935356Z",
     "start_time": "2025-10-28T15:55:47.030198Z"
    }
   },
   "cell_type": "code",
   "source": [
    "from sklearn.metrics import mean_absolute_error as mae\n",
    "\n",
    "# List of integers of actual and calculated\n",
    "actual = [2, 3, 5, 5, 9]\n",
    "calculated = [3, 3, 8, 7, 6]\n",
    "\n",
    "# Calculate MAE\n",
    "error = mae(actual, calculated)\n",
    "print(\"Mean absolute error: \" + str(error))"
   ],
   "id": "ace26bf62cf26077",
   "outputs": [
    {
     "name": "stdout",
     "output_type": "stream",
     "text": [
      "Mean absolute error: 1.8\n"
     ]
    }
   ],
   "execution_count": 2
  },
  {
   "metadata": {},
   "cell_type": "code",
   "outputs": [],
   "execution_count": null,
   "source": "",
   "id": "c41aa92cfecdd77d"
  }
 ],
 "metadata": {
  "kernelspec": {
   "display_name": "Python 3",
   "language": "python",
   "name": "python3"
  },
  "language_info": {
   "codemirror_mode": {
    "name": "ipython",
    "version": 2
   },
   "file_extension": ".py",
   "mimetype": "text/x-python",
   "name": "python",
   "nbconvert_exporter": "python",
   "pygments_lexer": "ipython2",
   "version": "2.7.6"
  }
 },
 "nbformat": 4,
 "nbformat_minor": 5
}
