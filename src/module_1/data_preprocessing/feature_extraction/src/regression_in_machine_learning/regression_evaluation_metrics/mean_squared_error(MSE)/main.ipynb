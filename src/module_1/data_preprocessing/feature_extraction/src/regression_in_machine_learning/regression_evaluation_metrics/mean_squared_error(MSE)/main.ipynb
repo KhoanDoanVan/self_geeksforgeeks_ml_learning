{
 "cells": [
  {
   "metadata": {},
   "cell_type": "markdown",
   "source": "# 1. Calculating MSE using Scikit-learn",
   "id": "45e962c0d4634800"
  },
  {
   "cell_type": "code",
   "id": "initial_id",
   "metadata": {
    "collapsed": true,
    "ExecuteTime": {
     "end_time": "2025-10-28T16:14:11.087430Z",
     "start_time": "2025-10-28T16:14:11.078357Z"
    }
   },
   "source": [
    "from sklearn.metrics import mean_squared_error\n",
    "\n",
    "# Given values\n",
    "Y_true = [1, 1, 2, 2, 4] # Y_true = Y (original values)\n",
    "\n",
    "# Calculated values\n",
    "Y_pred = [0.6, 1.29, 1.99, 2.69, 3.4] # Y_pred = Y'\n",
    "\n",
    "# Calculation of Mean Squared Error (MSE)\n",
    "mean_squared_error(Y_true, Y_pred)"
   ],
   "outputs": [
    {
     "data": {
      "text/plain": [
       "0.21606"
      ]
     },
     "execution_count": 2,
     "metadata": {},
     "output_type": "execute_result"
    }
   ],
   "execution_count": 2
  },
  {
   "metadata": {},
   "cell_type": "markdown",
   "source": "Explanation: This code calculates the Mean Squared Error (MSE) using Scikit-learn's mean_squared_error function. It takes the true values (Y_true) and predicted values (Y_pred) as inputs, then computes the squared differences between them, averages them, and returns the MSE. This function simplifies the process of calculating MSE compared to manually implementing the steps.",
   "id": "71e60989dd4fec65"
  },
  {
   "metadata": {},
   "cell_type": "markdown",
   "source": "# 2. Calculating MSE using Numpy",
   "id": "693d800a9509e1fb"
  },
  {
   "metadata": {
    "ExecuteTime": {
     "end_time": "2025-10-28T16:17:22.121308Z",
     "start_time": "2025-10-28T16:17:22.114288Z"
    }
   },
   "cell_type": "code",
   "source": [
    "import numpy as np\n",
    "\n",
    "# Give values\n",
    "Y_true = [1, 1, 2, 2, 4] # Y_true = Y (original values)\n",
    "\n",
    "# Calculated values\n",
    "Y_pred = [0.6, 1.29, 1.99, 2.69, 3.4] # Y_pred = Y'\n",
    "\n",
    "# Mean Squared Error\n",
    "MSE = np.square(np.subtract(Y_true, Y_pred)).mean()\n",
    "\n",
    "mse = float(MSE)\n",
    "\n",
    "mse"
   ],
   "id": "2db11d43061b2a3",
   "outputs": [
    {
     "data": {
      "text/plain": [
       "0.21606"
      ]
     },
     "execution_count": 5,
     "metadata": {},
     "output_type": "execute_result"
    }
   ],
   "execution_count": 5
  },
  {
   "metadata": {},
   "cell_type": "code",
   "outputs": [],
   "execution_count": null,
   "source": "",
   "id": "fbe7f4eaf180dfbf"
  }
 ],
 "metadata": {
  "kernelspec": {
   "display_name": "Python 3",
   "language": "python",
   "name": "python3"
  },
  "language_info": {
   "codemirror_mode": {
    "name": "ipython",
    "version": 2
   },
   "file_extension": ".py",
   "mimetype": "text/x-python",
   "name": "python",
   "nbconvert_exporter": "python",
   "pygments_lexer": "ipython2",
   "version": "2.7.6"
  }
 },
 "nbformat": 4,
 "nbformat_minor": 5
}
