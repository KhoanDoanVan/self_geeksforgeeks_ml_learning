{
 "cells": [
  {
   "cell_type": "code",
   "execution_count": null,
   "id": "92ac4fb7",
   "metadata": {},
   "outputs": [],
   "source": [
    "import pandas as pd\n",
    "import numpy as np\n",
    "\n",
    "df = pd.read_csv(\"./data/SampleFile.csv\")\n",
    "\n",
    "df = df.select_dtypes(include=np.number)\n",
    "df.head()"
   ]
  },
  {
   "cell_type": "code",
   "execution_count": null,
   "id": "52dbf0eb",
   "metadata": {},
   "outputs": [],
   "source": [
    "# ========================= 1. Absolute Maximum Scaling =========================\n",
    "\n",
    "# Computes max absolute value per column with np.max(np.abs(df), axis=0).\n",
    "# Divides each value by that max absolute to scale features between -1 and 1.\n",
    "# Displays first few rows of scaled data with scaled_df.head().\n",
    "\n",
    "max_ads = df.max(np.abs(df), axis=0)\n",
    "\n",
    "scaled_df = df / max_ads\n",
    "scaled_df.head()"
   ]
  },
  {
   "cell_type": "code",
   "execution_count": null,
   "id": "79b4dad1",
   "metadata": {},
   "outputs": [],
   "source": [
    "# ========================= 2. Min-Max Scaling =========================\n",
    "\n",
    "# Creates MinMaxScaler object to scale features to range.\n",
    "# Fits scaler to data and transforms with scaler.fit_transform(df).\n",
    "# Converts result to DataFrame maintaining column names.\n",
    "# Shows first few scaled rows with scaled_df.head().\n",
    "\n",
    "from sklearn.preprocessing import MinMaxScaler\n",
    "\n",
    "\n",
    "scaler = MinMaxScaler()\n",
    "scaled_data = scaler.fit_transform(df)\n",
    "scaled_df = pd.DataFrame(scaled_data, columns=df.columns)\n",
    "\n",
    "scaled_df.head()"
   ]
  },
  {
   "cell_type": "code",
   "execution_count": null,
   "id": "75ef2d24",
   "metadata": {},
   "outputs": [],
   "source": [
    "# ========================= 3. Normalization (Vector Normalization) =========================\n",
    "\n",
    "# Scales each row (sample) to have unit norm (length = 1) based on Euclidean distance.\n",
    "# Focuses on direction rather than magnitude of data points.\n",
    "# Useful for algorithms relying on similarity or angles (e.g., cosine similarity).\n",
    "# scaled_df.head() shows normalized data where each row is scaled individually.\n",
    "\n",
    "from sklearn.preprocessing import Normalizer\n",
    "\n",
    "scaler = Normalizer()\n",
    "scaled_data = scaler.fit_transform(df)\n",
    "scaled_df = pd.DataFrame(scaled_data, columns=df.columns)\n",
    "\n",
    "scaled_df.head()"
   ]
  },
  {
   "cell_type": "code",
   "execution_count": null,
   "id": "d94b33de",
   "metadata": {},
   "outputs": [],
   "source": [
    "# ========================= 4. Standardization =========================\n",
    "\n",
    "# Centers features by subtracting mean and scales to unit variance.\n",
    "# Transforms data to have zero mean and standard deviation of 1.\n",
    "# Assumes roughly normal distribution; improves many ML algorithms’ performance.\n",
    "# scaled_df.head() shows standardized features.\n",
    "\n",
    "from sklearn.preprocessing import StandardScaler\n",
    "\n",
    "scaler = StandardScaler()\n",
    "scaled_data = scaler.fit_transform(df)\n",
    "scaled_df = pd.DataFrame(scaled_data, columns=df.columns)\n",
    "\n",
    "scaled_df.head()"
   ]
  },
  {
   "cell_type": "code",
   "execution_count": null,
   "id": "139dc8cc",
   "metadata": {},
   "outputs": [],
   "source": [
    "# ========================= 5. Robust Scaling =========================\n",
    "\n",
    "# Uses median and interquartile range (IQR) for scaling instead of mean/std.\n",
    "# Robust to outliers and skewed data distributions.\n",
    "# Centers data around median and scales based on spread of central 50% values.\n",
    "# scaled_df.head() shows robustly scaled data minimizing outlier effects.\n",
    "\n",
    "from sklearn.preprocessing import RobustScaler\n",
    "\n",
    "scaler = RobustScaler()\n",
    "scaled_data = scaler.fit_transform(df)\n",
    "scaled_df = pd.DataFrame(scaled_data, columns=df.columns)\n",
    "\n",
    "scaled_df.head()"
   ]
  }
 ],
 "metadata": {
  "kernelspec": {
   "display_name": ".w3s_ml_venv",
   "language": "python",
   "name": "python3"
  },
  "language_info": {
   "codemirror_mode": {
    "name": "ipython",
    "version": 3
   },
   "file_extension": ".py",
   "mimetype": "text/x-python",
   "name": "python",
   "nbconvert_exporter": "python",
   "pygments_lexer": "ipython3",
   "version": "3.13.7"
  }
 },
 "nbformat": 4,
 "nbformat_minor": 5
}
